{
 "cells": [
  {
   "cell_type": "markdown",
   "metadata": {},
   "source": [
    "# Lesson 2 : Objects"
   ]
  },
  {
   "cell_type": "markdown",
   "metadata": {},
   "source": [
    "## 2.1 Types of Objects\n",
    "In python data takes form of objects, either built-in objects that python provides, or objects that user can create.\n",
    "These are some of the built-in data types that we saw in Lesson 1."
   ]
  },
  {
   "cell_type": "code",
   "execution_count": 19,
   "metadata": {
    "scrolled": true
   },
   "outputs": [
    {
     "name": "stdout",
     "output_type": "stream",
     "text": [
      "25\n"
     ]
    }
   ],
   "source": [
    "# Numbers\n",
    "x = 5\n",
    "print(x ** 2)"
   ]
  },
  {
   "cell_type": "code",
   "execution_count": 7,
   "metadata": {},
   "outputs": [
    {
     "name": "stdout",
     "output_type": "stream",
     "text": [
      "\"Winter\" is coming.\n",
      "\"Winter\" is coming.\n"
     ]
    }
   ],
   "source": [
    "# Strings\n",
    "s1 = \"\\\"Winter\\\" is coming.\"\n",
    "s2 = '\"Winter\" is coming.'\n",
    "print(s1)\n",
    "print(s2)"
   ]
  },
  {
   "cell_type": "code",
   "execution_count": 20,
   "metadata": {},
   "outputs": [
    {
     "name": "stdout",
     "output_type": "stream",
     "text": [
      "['Can you guess which numbers are these?', 1, 1, 2, 5, 14, 42, 132, 429, 1430]\n",
      "[\"Don't Google\", 1, 1, 2, 5, 14, 42, 132, 429, 1430]\n"
     ]
    }
   ],
   "source": [
    "# Lists\n",
    "a = [\"Can you guess which numbers are these?\",1, 1, 2, 5, 14, 42, 132, 429, 1430]\n",
    "print(a)\n",
    "a[0] = 'Don\\'t Google'\n",
    "print(a)"
   ]
  },
  {
   "cell_type": "markdown",
   "metadata": {},
   "source": [
    "## 2.2 More about objects\n",
    "**All python objects have this**\n",
    "* A unique identity (an integer, returned by id(x))\n",
    "* A type (returned by type(x))\n",
    "* Some content\n",
    "\n",
    "\n",
    "1. You cannot change the identity.\n",
    "2. You cannot change the type.\n",
    "3. Some objects allow you to change their content without changing the identity or the type, that is (mutable objects).\n",
    "4. Some objects don’t allow you to change their content (immutable objects)."
   ]
  },
  {
   "cell_type": "code",
   "execution_count": 2,
   "metadata": {},
   "outputs": [
    {
     "name": "stdout",
     "output_type": "stream",
     "text": [
      "<class 'str'>\n",
      "139886348476328\n"
     ]
    }
   ],
   "source": [
    "x = 'What is the type of x'\n",
    "print(type(x))\n",
    "print(id(x))"
   ]
  },
  {
   "cell_type": "markdown",
   "metadata": {},
   "source": [
    "**Objects may also have this**\n",
    "* zero or more names\n",
    "* zero or more methods (more about this later)\n",
    "\n",
    "**Note:** Some methods allow you to change the contents of a object, while some don't. But in any case you can never change the type or the identity."
   ]
  },
  {
   "cell_type": "code",
   "execution_count": 3,
   "metadata": {},
   "outputs": [
    {
     "name": "stdout",
     "output_type": "stream",
     "text": [
      "['This', 'is', 'a', 'string']\n"
     ]
    }
   ],
   "source": [
    "# s is the name of the object whose type is <class 'str'> and id is given by id(x)\n",
    "s = 'This is a string'\n",
    "\n",
    "# s has a method split() which splits the string and returns a list\n",
    "l = s.split(' ')\n",
    "print(l)"
   ]
  },
  {
   "cell_type": "markdown",
   "metadata": {},
   "source": [
    "## 2.3 Understanding assignment statements\n",
    "Assignment statements are nothing but giving name to a object. A name is just a label, and it can be bound to any object of any type at any time."
   ]
  },
  {
   "cell_type": "code",
   "execution_count": 5,
   "metadata": {},
   "outputs": [
    {
     "name": "stdout",
     "output_type": "stream",
     "text": [
      "10910688\n",
      "10911008\n"
     ]
    }
   ],
   "source": [
    "# This just means that x is name given to an integer object with value 10\n",
    "x = 10\n",
    "print(id(x))\n",
    "\n",
    "# This just means that x is now the name of an integer object with value 20.\n",
    "# The original '10' object isn't affected by this at all.\n",
    "x = 20\n",
    "print(id(x))"
   ]
  },
  {
   "cell_type": "code",
   "execution_count": 9,
   "metadata": {},
   "outputs": [
    {
     "name": "stdout",
     "output_type": "stream",
     "text": [
      "10910528\n",
      "10910528\n",
      "10910528\n",
      "\n",
      "\n",
      "10910688\n",
      "10910528\n"
     ]
    }
   ],
   "source": [
    "a = 5\n",
    "print(id(a))\n",
    "b = a\n",
    "print(id(b))\n",
    "print(id(5))\n",
    "\n",
    "print('\\n')\n",
    "\n",
    "a = 10\n",
    "# Can you guess what will be output?\n",
    "print(id(a))\n",
    "print(id(b))"
   ]
  },
  {
   "cell_type": "markdown",
   "metadata": {},
   "source": [
    "## 2.4 Mutable and Immutable objects\n",
    "As we saw before that mutable objects are those which allow you to change their content, and immutable don't allow.\n",
    "\n",
    "**mutable types are:** list, dict, set <br>\n",
    "**immutable types are:** int, float, string, tuple"
   ]
  },
  {
   "cell_type": "code",
   "execution_count": 10,
   "metadata": {},
   "outputs": [
    {
     "name": "stdout",
     "output_type": "stream",
     "text": [
      "10910528\n",
      "10910560\n"
     ]
    }
   ],
   "source": [
    "x = 5\n",
    "print(id(x))\n",
    "x = x + 1\n",
    "print(id(x))\n",
    "# Should the id's be similar?"
   ]
  },
  {
   "cell_type": "code",
   "execution_count": 22,
   "metadata": {},
   "outputs": [
    {
     "name": "stdout",
     "output_type": "stream",
     "text": [
      "139886348086472\n",
      "139886348086472\n"
     ]
    }
   ],
   "source": [
    "l = [1,2,3]\n",
    "print(id(l))\n",
    "l.append(4)\n",
    "print(id(l))"
   ]
  },
  {
   "cell_type": "code",
   "execution_count": 24,
   "metadata": {},
   "outputs": [
    {
     "name": "stdout",
     "output_type": "stream",
     "text": [
      "s1 139886486351520\n",
      "s2 139886486351520\n",
      "string    139886486351520\n",
      "new string    139886348451248\n"
     ]
    }
   ],
   "source": [
    "# What do you expect?\n",
    "s1 = \"string\"\n",
    "s2 = s1\n",
    "print(\"s1\", id(s1))\n",
    "print(\"s2\", id(s2))\n",
    "\n",
    "s2 = \"new string\"\n",
    "print(s1, '  ', id(s1))\n",
    "print(s2, '  ', id(s2))"
   ]
  },
  {
   "cell_type": "code",
   "execution_count": 29,
   "metadata": {},
   "outputs": [
    {
     "name": "stdout",
     "output_type": "stream",
     "text": [
      "l1 139886348450376\n",
      "l2 139886348450376\n",
      "['This', 'is', 'a', 'new list']    139886348450376\n",
      "['This', 'is', 'a', 'new list']    139886348450376\n"
     ]
    }
   ],
   "source": [
    "# Should the behaviour be similar as above?\n",
    "l1 = ['This', 'is', 'a', 'list']\n",
    "l2 = l1\n",
    "print(\"l1\", id(l1))\n",
    "print(\"l2\", id(l2))\n",
    "l2[3] = 'new list'\n",
    "\n",
    "print(l1, '  ', id(l1))\n",
    "print(l2, '  ', id(l2))"
   ]
  }
 ],
 "metadata": {
  "kernelspec": {
   "display_name": "Python 3",
   "language": "python",
   "name": "python3"
  },
  "language_info": {
   "codemirror_mode": {
    "name": "ipython",
    "version": 3
   },
   "file_extension": ".py",
   "mimetype": "text/x-python",
   "name": "python",
   "nbconvert_exporter": "python",
   "pygments_lexer": "ipython3",
   "version": "3.6.7"
  }
 },
 "nbformat": 4,
 "nbformat_minor": 2
}
