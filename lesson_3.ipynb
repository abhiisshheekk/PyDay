{
 "cells": [
  {
   "cell_type": "markdown",
   "metadata": {},
   "source": [
    "# Lesson 3 : Functions\n",
    "We got introduced to functions in Lesson1, here we will learn in more depth about them. `def` keyword is used to define functions.\n",
    "## 3.1 Return statements"
   ]
  },
  {
   "cell_type": "code",
   "execution_count": 5,
   "metadata": {},
   "outputs": [],
   "source": [
    "# Here we have defined a simple function which takes one input and returns a string\n",
    "def hello(name):\n",
    "    return 'Hello, ' + name"
   ]
  },
  {
   "cell_type": "code",
   "execution_count": 10,
   "metadata": {},
   "outputs": [
    {
     "name": "stdout",
     "output_type": "stream",
     "text": [
      "Hello, jon\n"
     ]
    }
   ],
   "source": [
    "# We can call this function when we want by passing the appropriate arguments.\n",
    "# Whatever function hello returns in stored in variable x\n",
    "x = hello('jon')\n",
    "print(x)"
   ]
  },
  {
   "cell_type": "code",
   "execution_count": 41,
   "metadata": {},
   "outputs": [
    {
     "name": "stdout",
     "output_type": "stream",
     "text": [
      "<class 'function'>\n",
      "Hello, jon\n"
     ]
    }
   ],
   "source": [
    "# We can also create objects of type functions\n",
    "# Create a object which refers to the `hello` function and call it. Also try printing it's type.\n",
    "\n"
   ]
  },
  {
   "cell_type": "code",
   "execution_count": 13,
   "metadata": {},
   "outputs": [],
   "source": [
    "# Lets define another simple funtion which does the same job as above but prints it directly rather than returning\n",
    "def hi(name):\n",
    "    print('Hi, ' + name)"
   ]
  },
  {
   "cell_type": "code",
   "execution_count": 15,
   "metadata": {},
   "outputs": [
    {
     "name": "stdout",
     "output_type": "stream",
     "text": [
      "Hi, jon\n"
     ]
    }
   ],
   "source": [
    "hi('jon')"
   ]
  },
  {
   "cell_type": "code",
   "execution_count": 16,
   "metadata": {},
   "outputs": [
    {
     "name": "stdout",
     "output_type": "stream",
     "text": [
      "Hi, jon\n",
      "None\n"
     ]
    }
   ],
   "source": [
    "# Check if `hi` function returns anything\n",
    "# In python functions with no return statement return a value or not?\n"
   ]
  },
  {
   "cell_type": "markdown",
   "metadata": {},
   "source": [
    "## 3.2 Argument's\n",
    "\n",
    "### 3.2.1 Default argument values\n",
    "Python allows you to give default values to argument's which are used incase function is called without that argument.<br>\n",
    "There are basically two types of arguments:<br>\n",
    "Positional arguments are those arguments which do not have a default value, and keyword areguments are those values which have a default value. You must specify all the positonal arguments while calling a function. Keyword arguments are optional because default value will be used if they are not specifically supplied."
   ]
  },
  {
   "cell_type": "code",
   "execution_count": 17,
   "metadata": {},
   "outputs": [],
   "source": [
    "# Simple function which returns num^pow\n",
    "def power(num, pow=2):\n",
    "    return num ** pow"
   ]
  },
  {
   "cell_type": "code",
   "execution_count": 67,
   "metadata": {},
   "outputs": [],
   "source": [
    "# Call the above function by passing only one argument.\n",
    "# You can also call the above function by passing two arguments.\n",
    "\n"
   ]
  },
  {
   "cell_type": "markdown",
   "metadata": {},
   "source": [
    "### 3.2.2 Variable number of arguments\n",
    "If you don't know the number of arguments that you will be passing beforehand, you can define functions that take variable number of arguments.<br>\n",
    "Let's see and example where we will add arbitrary number of numbers."
   ]
  },
  {
   "cell_type": "code",
   "execution_count": 21,
   "metadata": {},
   "outputs": [],
   "source": [
    "def sum(*nums):\n",
    "    s = 0\n",
    "    for num in nums:\n",
    "        s += num\n",
    "    return s"
   ]
  },
  {
   "cell_type": "code",
   "execution_count": 23,
   "metadata": {},
   "outputs": [
    {
     "name": "stdout",
     "output_type": "stream",
     "text": [
      "6\n",
      "8\n"
     ]
    }
   ],
   "source": [
    "# Try it yourself by passing any number of arguments."
   ]
  },
  {
   "cell_type": "markdown",
   "metadata": {},
   "source": [
    "## 3.3 Pass by Assignment\n",
    "In this section we will learn how arguments are passed when a function is called.\n",
    "Official documentation says that arguments are passed using call by value where value is always an object reference , not the value of the object. Let's understand what this means."
   ]
  },
  {
   "cell_type": "code",
   "execution_count": 35,
   "metadata": {},
   "outputs": [],
   "source": [
    "# Example 1\n",
    "def f(s2):\n",
    "    # Here s2 is a string object with content 'python'\n",
    "    s2 = 'wtf ' + s2\n",
    "    # Here s2 is a string object with content 'wtf python'\n",
    "    # Are the id's of this two object's same?"
   ]
  },
  {
   "cell_type": "code",
   "execution_count": 36,
   "metadata": {},
   "outputs": [
    {
     "name": "stdout",
     "output_type": "stream",
     "text": [
      "python\n"
     ]
    }
   ],
   "source": [
    "s1 = 'python'\n",
    "f(s1)\n",
    "# Will the value of s1 change?\n",
    "print(s1)"
   ]
  },
  {
   "cell_type": "code",
   "execution_count": 27,
   "metadata": {},
   "outputs": [],
   "source": [
    "# Example 2\n",
    "def g(l2):\n",
    "    # Here l2 is a list object with content ['what', 'the', 'f']\n",
    "    l2.append('python')\n",
    "    # Here l2 is a list object with content ['what', 'the', 'f', 'python']\n",
    "    # Are the id's of the two objects same here?"
   ]
  },
  {
   "cell_type": "code",
   "execution_count": 28,
   "metadata": {},
   "outputs": [
    {
     "name": "stdout",
     "output_type": "stream",
     "text": [
      "['what', 'the', 'f', 'python']\n"
     ]
    }
   ],
   "source": [
    "l1 = ['what', 'the', 'f']\n",
    "g(l1)\n",
    "# Will the value of l1 change?\n",
    "print(l1)"
   ]
  },
  {
   "cell_type": "markdown",
   "metadata": {},
   "source": [
    "Can you explain what happened in above examples? (Hint: Recall what we have learnt in Lesson 2). Actually arguments are passed by assignment in Python. Just think of passing the arguments are assignment statements.\n",
    "\n",
    "**Example 1**<br>\n",
    "You called the function by passing s1 to it. Think of this as assigning s1 to s2, <br>\n",
    "`s2 = s1`<br>\n",
    "After this statement `id(s1) == id(s2)`. Both `s1` and `s2` are names of an string object with content `python`.<br>\n",
    "Now what happens after `s2 = 'wtf' + s2` is executed. Is s2 the same name of the same object or a different one.\n",
    "Recall that strings are immutable, which means that content of a string objects cannot be changed. So `s2` is now name of different object with value `wtf python`."
   ]
  },
  {
   "cell_type": "markdown",
   "metadata": {},
   "source": [
    "**Example 2**<br>\n",
    "Now you are in a position to explain what happened in example 2.\n",
    "Again think of passing `l1` to function as an assignment statement,<br>\n",
    "`l2 = l1`<br>\n",
    "Recall that lists are mutable and we can change their content using methods. After executing `l2.append('python')` we are changing the content of the object, hence the change is also reflected in `l1`."
   ]
  },
  {
   "cell_type": "code",
   "execution_count": 39,
   "metadata": {},
   "outputs": [],
   "source": [
    "# Example 3\n",
    "def h(l2):\n",
    "    l2 = ['new', 'list']"
   ]
  },
  {
   "cell_type": "code",
   "execution_count": 40,
   "metadata": {},
   "outputs": [
    {
     "name": "stdout",
     "output_type": "stream",
     "text": [
      "['old', 'list']\n"
     ]
    }
   ],
   "source": [
    "l1 = ['old', 'list']\n",
    "h(l1)\n",
    "# Will it change or not?\n",
    "# Try printing"
   ]
  },
  {
   "cell_type": "markdown",
   "metadata": {},
   "source": [
    "**Example 3**<br>\n",
    "Our strategy to understand this is the same, think of passing arguments as assignment statements.\n",
    "The important thing to understand is what if happening when `l2 = ['new', 'list']` gets executed.<br>\n",
    "Lists are mutable so change should be reflected in `l1`, so why it didn't?<br>\n",
    "Because we are not changing the content of the object. We can change content of a list, it's just that assigning `l2` a new list does not change the content of first list. First `l1` and `l2` were name of list object with content `['old', 'list']` but now `l2` is name of list object with content `['new', 'list']`. This has no effect on `l1` whatsoever."
   ]
  },
  {
   "cell_type": "markdown",
   "metadata": {},
   "source": [
    "## 3.4 Passing functions as arguments\n",
    "We already saw that functions can be referred by variables, now we will see how to pass functions as arguments to another function."
   ]
  },
  {
   "cell_type": "code",
   "execution_count": 42,
   "metadata": {},
   "outputs": [],
   "source": [
    "def hello(what):\n",
    "    print('Hello')\n",
    "    what()\n",
    "    \n",
    "def hi():\n",
    "    print('Hi')"
   ]
  },
  {
   "cell_type": "code",
   "execution_count": 46,
   "metadata": {},
   "outputs": [
    {
     "name": "stdout",
     "output_type": "stream",
     "text": [
      "Hi\n",
      "\n",
      "\n",
      "Hello\n",
      "Hi\n"
     ]
    }
   ],
   "source": [
    "# Try calling `hi` function directly\n",
    "# Try calling `hello` function by passing `hi` to it."
   ]
  },
  {
   "cell_type": "markdown",
   "metadata": {},
   "source": [
    "In the above example we have passed `hi` function as an argument to `hello` function. `what` is a reference to `hi` function so `what()` calls the `hi` function."
   ]
  },
  {
   "cell_type": "markdown",
   "metadata": {},
   "source": [
    "## 3.5 Defining functions inside function"
   ]
  },
  {
   "cell_type": "code",
   "execution_count": 48,
   "metadata": {},
   "outputs": [],
   "source": [
    "def hello():\n",
    "    print('Hello')\n",
    "    \n",
    "    def hi():\n",
    "        print('Hi')\n",
    "    # Note that we have to call the function `hi` for 'Hi' to be printed.\n",
    "    hi()"
   ]
  },
  {
   "cell_type": "code",
   "execution_count": 49,
   "metadata": {},
   "outputs": [
    {
     "name": "stdout",
     "output_type": "stream",
     "text": [
      "Hello\n",
      "Hi\n"
     ]
    }
   ],
   "source": [
    "# Try calling `hello` function\n",
    "# What will happen if you directly call `hi`?"
   ]
  },
  {
   "cell_type": "markdown",
   "metadata": {},
   "source": [
    "## 3.6 Returning function from a function"
   ]
  },
  {
   "cell_type": "code",
   "execution_count": 51,
   "metadata": {},
   "outputs": [],
   "source": [
    "def hello():\n",
    "    print('Hello')\n",
    "    \n",
    "    def hi():\n",
    "        print('Hi')\n",
    "    # Instead of calling `hi` function let's return it\n",
    "    return hi"
   ]
  },
  {
   "cell_type": "code",
   "execution_count": 52,
   "metadata": {},
   "outputs": [
    {
     "name": "stdout",
     "output_type": "stream",
     "text": [
      "Hello\n",
      "Hi\n"
     ]
    }
   ],
   "source": [
    "# Try calling `hello` function. You need a variable to store the return value."
   ]
  },
  {
   "cell_type": "code",
   "execution_count": 57,
   "metadata": {},
   "outputs": [],
   "source": [
    "# Let's look at another example of this\n",
    "def hello(name):\n",
    "    print('Hello, ' + name)\n",
    "    \n",
    "    def greet(greeting):\n",
    "        print('Hello, ' + name + '. ' + greeting)\n",
    "    \n",
    "    return greet"
   ]
  },
  {
   "cell_type": "code",
   "execution_count": 60,
   "metadata": {},
   "outputs": [],
   "source": [
    "# Try calling `hello` function."
   ]
  },
  {
   "cell_type": "code",
   "execution_count": 61,
   "metadata": {},
   "outputs": [],
   "source": [
    "# Now let's mix what we have learnt, we will pass function as an argument, define function inside a function,\n",
    "# and return a function from a function. All this is one single function.\n",
    "\n",
    "def main_func(some_func):\n",
    "    print('main_func started')\n",
    "    \n",
    "    def wrapper_func():\n",
    "        print('wrapper func started')\n",
    "        some_func()\n",
    "        print('wrapper func ended')\n",
    "\n",
    "    print('main_func ended')\n",
    "    return wrapper_func"
   ]
  },
  {
   "cell_type": "code",
   "execution_count": 62,
   "metadata": {},
   "outputs": [],
   "source": [
    "def wtf():\n",
    "    print('wtf is happening')"
   ]
  },
  {
   "cell_type": "code",
   "execution_count": 68,
   "metadata": {},
   "outputs": [],
   "source": [
    "# Try calling `main_func` by passing `wtf` as a argument.\n",
    "# Remember that main_func returns a function"
   ]
  }
 ],
 "metadata": {
  "kernelspec": {
   "display_name": "Python 3",
   "language": "python",
   "name": "python3"
  },
  "language_info": {
   "codemirror_mode": {
    "name": "ipython",
    "version": 3
   },
   "file_extension": ".py",
   "mimetype": "text/x-python",
   "name": "python",
   "nbconvert_exporter": "python",
   "pygments_lexer": "ipython3",
   "version": "3.6.7"
  }
 },
 "nbformat": 4,
 "nbformat_minor": 2
}
