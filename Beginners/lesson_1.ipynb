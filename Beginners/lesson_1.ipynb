{
 "cells": [
  {
   "cell_type": "markdown",
   "metadata": {
    "colab_type": "text",
    "id": "FzVJiCJJzAnW"
   },
   "source": [
    "# Lesson 1 : Python Basics"
   ]
  },
  {
   "cell_type": "markdown",
   "metadata": {
    "colab_type": "text",
    "id": "Y34LFWpwzAne"
   },
   "source": [
    "## Why Python ?"
   ]
  },
  {
   "cell_type": "markdown",
   "metadata": {
    "colab_type": "text",
    "id": "csBDL_f7zAnh"
   },
   "source": [
    "#### Python is like the king of all languages - it's super easy, super fun and super friendly to learn and build amazing real-world projects.\n",
    "A few reasons why python is still a must know language for nearly every developer is because it -\n",
    "\n",
    "- is easy to learn\n",
    "- is reliable and efficient\n",
    "- is an indispensable tool\n",
    "- has amazing libraries and APIs\n",
    "- works well with Big Data\n",
    "- Sounds cool on a Resume xP\n"
   ]
  },
  {
   "cell_type": "markdown",
   "metadata": {
    "colab_type": "text",
    "id": "wudPi7jIzAnm"
   },
   "source": [
    "# Goal : Build your Own Spam Classifier \n"
   ]
  },
  {
   "cell_type": "markdown",
   "metadata": {
    "colab_type": "text",
    "id": "DNBwVXwazAno"
   },
   "source": [
    "We won't be diving into Machine Learning for our very first python tutorial. However, we will still see how to build an inspiring spam classifier by compiling the basics of what we learn in this session\n",
    "\n",
    "## Step 1 : Generate Data and Storing Information\n",
    "\n",
    "### 1.1 Variables in Python\n",
    "\n",
    "#### Why we need variables? \n",
    "We need them to store values. For our spam_classifier, we need a boolean to store whether the message is a spam or not. We also need to store a string that contains our example test case[spam message].\n",
    "\n",
    "#### What are variables?\n",
    "A variable in python is used to store data .  \n",
    "Unlike C, we don't need to name the type of the variable. We simply give a name and assign it wherever we need it in the code. \n",
    " Let us create a variable called `x` to store value `1`"
   ]
  },
  {
   "cell_type": "code",
   "execution_count": null,
   "metadata": {
    "colab": {},
    "colab_type": "code",
    "id": "hazNJlpezAnq"
   },
   "outputs": [],
   "source": [
    "# This is a comment in python. Variables are declared below\n",
    "x = 1 \n",
    "y = 0.99999"
   ]
  },
  {
   "cell_type": "code",
   "execution_count": null,
   "metadata": {
    "colab": {},
    "colab_type": "code",
    "id": "AfXcP6Z2zAny"
   },
   "outputs": [],
   "source": [
    "print(x + y)"
   ]
  },
  {
   "cell_type": "markdown",
   "metadata": {
    "colab_type": "text",
    "id": "vKVC7fiMzAn-"
   },
   "source": [
    "In `y`  add an extra 9 and re-run the above code. What happened?\n",
    "\n",
    "###### At the end of the day, we need to tell if our message is Spam or Not Spam. \n",
    "Create a boolean variable`is_spam` to store the result.\n",
    "Let us begin with the assumption that the message is Not Spam\n",
    "\n",
    "Case Sensitive - Boolean Values = `True` or `False`"
   ]
  },
  {
   "cell_type": "code",
   "execution_count": null,
   "metadata": {
    "colab": {},
    "colab_type": "code",
    "id": "OxGItrO9zAoB"
   },
   "outputs": [],
   "source": [
    "#Challenge : Your code goes here\n",
    "is_spam = False\n"
   ]
  },
  {
   "cell_type": "code",
   "execution_count": null,
   "metadata": {},
   "outputs": [],
   "source": [
    "#See type of your variable\n",
    "type(is_spam)"
   ]
  },
  {
   "cell_type": "markdown",
   "metadata": {
    "colab_type": "text",
    "id": "j7hcqGnCzAoH"
   },
   "source": [
    "\n",
    "\n",
    "\n",
    "### 1.2 Strings in Python\n",
    "\n",
    "A python string has text enclosed with '' or \" \" .   \n",
    "\n",
    "Now, for our spam classifier we need an example string that contains a spam message. An example for such a string is shown below. We then store the string in a variable called spam_message. Try running the code below to see how it works.  \n",
    "\n",
    "Replace the string below to contain a spam message."
   ]
  },
  {
   "cell_type": "code",
   "execution_count": null,
   "metadata": {
    "colab": {},
    "colab_type": "code",
    "id": "-EmalohfzAoK"
   },
   "outputs": [],
   "source": [
    "spam_message = 'This is not spam'"
   ]
  },
  {
   "cell_type": "code",
   "execution_count": null,
   "metadata": {
    "colab": {},
    "colab_type": "code",
    "id": "w_4cHj9BzAoS"
   },
   "outputs": [],
   "source": [
    "# Print value stored\n",
    "print(spam_message)"
   ]
  },
  {
   "cell_type": "markdown",
   "metadata": {
    "colab_type": "text",
    "id": "NLlT4rgxzAoa"
   },
   "source": [
    "What happens when you add two strings?"
   ]
  },
  {
   "cell_type": "code",
   "execution_count": null,
   "metadata": {
    "colab": {},
    "colab_type": "code",
    "id": "YUnyXJz9zAod"
   },
   "outputs": [],
   "source": [
    "# Fill in str1 and str2. Run to see output.\n",
    "str1 = ''\n",
    "str2 = ''\n",
    "print(str1 + str2)"
   ]
  },
  {
   "cell_type": "markdown",
   "metadata": {
    "colab_type": "text",
    "id": "7HZpSOzizAou"
   },
   "source": [
    "<br>\n",
    "<br>\n",
    "<br>\n",
    "<br>\n",
    "\n",
    "\n",
    "\n",
    "##  Step 2 : Analysis - Spell Checking"
   ]
  },
  {
   "cell_type": "markdown",
   "metadata": {
    "colab_type": "text",
    "id": "x6nKZHXmzAow"
   },
   "source": [
    "### 2.1 Lists in Python \n",
    "\n",
    "##### Why we need Lists?\n",
    "A spam message can be viewed as an array of words. To perform a word-by-word analysis (like checking for spelling mistakes) we break a sentence and store it into a list of words.\n",
    "\n",
    "#### Usage\n",
    "Lists in pythons are equivalent to arrays in C.\n",
    "The below code shows how to declare a simple list in python"
   ]
  },
  {
   "cell_type": "code",
   "execution_count": null,
   "metadata": {
    "colab": {},
    "colab_type": "code",
    "id": "Kss4O0ZJzAox"
   },
   "outputs": [],
   "source": [
    "# Create a list\n",
    "my_list = ['first','second','third']\n",
    "my_list"
   ]
  },
  {
   "cell_type": "code",
   "execution_count": null,
   "metadata": {
    "colab": {},
    "colab_type": "code",
    "id": "ZOur4MiNzAo5"
   },
   "outputs": [],
   "source": [
    "# Challenge : Try to print the second element in my_list\n",
    "# hint : use [ ] with my_list\n",
    "\n",
    "\n",
    "\n"
   ]
  },
  {
   "cell_type": "markdown",
   "metadata": {
    "colab_type": "text",
    "id": "SvaRUQwLzAo9"
   },
   "source": [
    "Let us try to break our spam message into words and store it in a list.<br>That way we can check each word for spelling mistakes. If it has a mistake, we shall classify the message as spam.<br>We shall make use of the split() function to make our lives easier.\n",
    "\n",
    "Note : split() returns a list but does not change the original string. "
   ]
  },
  {
   "cell_type": "code",
   "execution_count": null,
   "metadata": {
    "colab": {},
    "colab_type": "code",
    "id": "-h0CSGq4zApA"
   },
   "outputs": [],
   "source": [
    "str = 'This is a sentence'\n",
    "str.split(' ')"
   ]
  },
  {
   "cell_type": "code",
   "execution_count": null,
   "metadata": {
    "colab": {},
    "colab_type": "code",
    "id": "CPlw30SQzApI"
   },
   "outputs": [],
   "source": [
    "# Now try using the above function to split 'spam_message' \n",
    "# and assign it to a variable called 'words'.\n",
    "words = spam_message.split()\n",
    "print(words)"
   ]
  },
  {
   "cell_type": "markdown",
   "metadata": {
    "colab_type": "text",
    "id": "sUQYnb_hzApP"
   },
   "source": [
    "Noticed any problems. Let us use built-in string functions to help clean our message by removing punctuations - \n",
    "<br>str.replace(old string, new string)"
   ]
  },
  {
   "cell_type": "code",
   "execution_count": null,
   "metadata": {
    "colab": {},
    "colab_type": "code",
    "id": "iRmFzs-izApR"
   },
   "outputs": [],
   "source": [
    "spam_message = spam_message.replace(\"?\",\"\")\n",
    "print(spam_message)"
   ]
  },
  {
   "cell_type": "markdown",
   "metadata": {
    "colab_type": "text",
    "id": "wKqycowrzApX"
   },
   "source": [
    "Try removing other punctutation marks like `.`,`,`,`!`"
   ]
  },
  {
   "cell_type": "code",
   "execution_count": null,
   "metadata": {
    "colab": {},
    "colab_type": "code",
    "id": "i7oBDlB0zApc"
   },
   "outputs": [],
   "source": [
    "# Based on what we did above, try removing the other punctuation marks below\n",
    "# Your code goes here\n",
    "\n",
    "\n",
    "\n",
    "\n",
    "\n",
    "\n",
    "\n"
   ]
  },
  {
   "cell_type": "markdown",
   "metadata": {
    "colab_type": "text",
    "id": "xm9Sl-wczAph"
   },
   "source": [
    "#### Too Many Punctuation marks to take care of??\n",
    "\n",
    "Never fear, for loop is here. See how python simplifies our life\n",
    "\n",
    "    (i)  Create a list of punctuation marks that needs to be removed\n",
    "    (ii) Iterate over each punctuation in the list and remove it from spam_message  "
   ]
  },
  {
   "cell_type": "code",
   "execution_count": null,
   "metadata": {
    "colab": {},
    "colab_type": "code",
    "id": "bQ7kVXt8zApm"
   },
   "outputs": [],
   "source": [
    "# Create a list to store punctuation marks to be removed. Call it 'punct_list'\n",
    "# Populate punc_list with some punctuation marks you know.\n",
    "\n",
    "#Complete this line below\n",
    "punct_list = [',','.','?']\n",
    "\n",
    "# For loop written for you below\n",
    "for punct_mark in punct_list:\n",
    "    spam_message = spam_message.replace(punct_mark, \"\")\n",
    "\n",
    "#Print\n",
    "spam_message"
   ]
  },
  {
   "cell_type": "code",
   "execution_count": null,
   "metadata": {
    "colab": {},
    "colab_type": "code",
    "id": "eOuC71IGzAp0"
   },
   "outputs": [],
   "source": [
    "#Now see if all words come properly\n",
    "words = spam_message.split(' ')\n",
    "print(words)"
   ]
  },
  {
   "cell_type": "markdown",
   "metadata": {
    "colab_type": "text",
    "id": "beCck6VMzAp8"
   },
   "source": [
    "\n",
    "### 2.2 Spell Checking using Ready Made libraries\n",
    "\n",
    "Now that we have our list of words. Let us use a ready made library to check spellings for us.\n",
    "<br>Run the below code to see the magic happen!"
   ]
  },
  {
   "cell_type": "code",
   "execution_count": null,
   "metadata": {},
   "outputs": [],
   "source": [
    "!pip3 install pyspellchecker"
   ]
  },
  {
   "cell_type": "code",
   "execution_count": null,
   "metadata": {
    "colab": {},
    "colab_type": "code",
    "id": "ePOtg9TtzAp-"
   },
   "outputs": [],
   "source": [
    "# Check for spelling mistakes\n",
    "from spellchecker import SpellChecker\n",
    "\n",
    "spell_checker = SpellChecker()\n",
    "mispelled = list(spell_checker.unknown(words))\n",
    "print(mispelled)"
   ]
  },
  {
   "cell_type": "markdown",
   "metadata": {
    "colab_type": "text",
    "id": "1ji7Rt3lzAqJ"
   },
   "source": [
    "### 2.3 If Conditionals\n",
    "\n",
    "If a word is mispelled than the message is Spam !!!\n",
    "<br>Let us write the above sentence in code."
   ]
  },
  {
   "cell_type": "code",
   "execution_count": null,
   "metadata": {
    "colab": {},
    "colab_type": "code",
    "id": "Ldh-U8suzAqL"
   },
   "outputs": [],
   "source": [
    "# Example if statement\n",
    "x = 1\n",
    "y = 2\n",
    "if x > y:\n",
    "    print(\"X is greater than y\")\n",
    "else:\n",
    "    print(\"Y is greater than x\")\n"
   ]
  },
  {
   "cell_type": "code",
   "execution_count": null,
   "metadata": {
    "colab": {},
    "colab_type": "code",
    "id": "XI3pXyjYzAqS"
   },
   "outputs": [],
   "source": [
    "# Challenge: Mark is_spam as True if there is atleast one mispelled word\n",
    "# Hint 1 : Remember to set the is_spam variable to True if mispelled, else False\n",
    "# Hint 2 : Recollect the len() function\n",
    "# Hint 3 : If len(mispelled) is greater than 0 it means that more than 0 words are mispelled.\n",
    "\n",
    "# Your code begins below here:\n",
    "if len(mispelled) > 0:\n",
    "    is_spam = True\n",
    "\n"
   ]
  },
  {
   "cell_type": "markdown",
   "metadata": {
    "colab_type": "text",
    "id": "cXZ54hQZzAqV"
   },
   "source": [
    "<br>\n",
    "<br>\n",
    "<br>\n",
    "<br>\n",
    "\n",
    "## Step 3 : Checking Letter Case\n",
    "\n"
   ]
  },
  {
   "cell_type": "markdown",
   "metadata": {
    "colab_type": "text",
    "id": "b644xb0azAqX"
   },
   "source": [
    "We'll use functions to check for patterns in data.\n",
    "\n",
    "You've already learnt what functions are in C, the basic idea is the same in Python too.\n",
    "<br>\n",
    "Two important differences though, are that you don't have to mention the return type of a function (nor the parameters it takes) and you've to be really careful about the indentation."
   ]
  },
  {
   "cell_type": "markdown",
   "metadata": {
    "colab_type": "text",
    "id": "hs-s1KgtzAqZ"
   },
   "source": [
    "### 3.1 Defining a function\n",
    "\n",
    "To define a function in Python, you just have to start the line with a Python keyword `def` followed by the function's name and parameters it takes (parameters to be in brackets, just like C).\n",
    "\n",
    "In many spam emails, the uppercase letters and lowercase letters are used in a bizarre manner. Like **HeLlO ReDeEm PrIzE NoW fOr ThOuSaNd dOlLaRs** or even **YOU'VE WON THE CHANCE TO VISIT DISNEYLAND IN HONOLULU!!!!!!**.\n",
    "\n",
    "Hence it is important for us to capture these patterns.\n",
    "\n",
    "Let us make a function to check if all the letters in a string are in uppercase."
   ]
  },
  {
   "cell_type": "code",
   "execution_count": null,
   "metadata": {
    "colab": {},
    "colab_type": "code",
    "id": "cJsJeCCQzAqf"
   },
   "outputs": [],
   "source": [
    "# The body of the function has to be indented\n",
    "def check_if_all_upper(test_string):\n",
    "    \n",
    "    # Define a string of all lowercase letters to take reference from\n",
    "    lower_letters = \"qwertyuiopasdfghjklzxcvbnm\"\n",
    "    \n",
    "    # Create a flag variable for a lower case letter and initialise it to False\n",
    "    found_lower = False\n",
    "    \n",
    "    # For loop to iterate through each letter and check for a lowercase letter\n",
    "    for index,letter in enumerate(test_string):\n",
    "        if letter in lower_letters:\n",
    "            found_lower = True\n",
    "            print('Found lower at', index)\n",
    "            break\n",
    "    \n",
    "    return (not found_lower)\n",
    "\n",
    "print(check_if_all_upper(\"THELAZYDOGJUMPSOV3RTHEQUICKREDF0X\"))\n"
   ]
  },
  {
   "cell_type": "markdown",
   "metadata": {
    "colab_type": "text",
    "id": "e_FVseNhzAqo"
   },
   "source": [
    "Will taking a reference of uppercase letters and checking if each letter is a member of that reference string work in all cases? Best way to find out -- Try it yourself."
   ]
  },
  {
   "cell_type": "markdown",
   "metadata": {
    "colab_type": "text",
    "id": "605IjsMozAqq"
   },
   "source": [
    "Now, complete the code given below to define a function which checks if the string given to it has **weird** casing of letters."
   ]
  },
  {
   "cell_type": "code",
   "execution_count": null,
   "metadata": {
    "colab": {},
    "colab_type": "code",
    "id": "024LuYTvzAqt"
   },
   "outputs": [],
   "source": [
    "# Challenge: Define a function which checks if a string has alternate uppercase and lowercase letters.\n",
    "# Hint: You can keep track of \"alternate\" by evaluating the value (index % 2)\n",
    "# Hint: Access the character at index by using test_string[index]\n",
    "\n",
    "\n",
    "# Helper function to remove all the punctuations, numbers etc.\n",
    "# The main function will take help from this function and use that string\n",
    "\n",
    "def keep_only_letters(test_string):\n",
    "    # Reference\n",
    "    english_letters = 'qwertyuiopasdfghjklzxcvbnm'\n",
    "    english_letters += english_letters.upper()\n",
    "    \n",
    "    # Create a copy of string to iterate through\n",
    "    dup_string = test_string\n",
    "    for letter in dup_string:\n",
    "        # If letter is not present in reference, replace it with ''\n",
    "        if letter not in english_letters:\n",
    "            test_string = test_string.replace(letter, '')\n",
    "    \n",
    "    # This function will return a processed string\n",
    "    return test_string\n",
    "\n",
    "def has_weird_case(test_string):\n",
    "    \n",
    "    # Now test_string has only letters\n",
    "    test_string = keep_only_letters(test_string)\n",
    "    is_weird = False\n",
    "    \n",
    "    # Your code begins here:\n",
    "    # Iterate through the words and count the number of uppercase and lowercase letters\n",
    "    # Hint: letter.isupper() tells whether the letter is upper\n",
    "    \n",
    "    \n",
    "    \n",
    "    return is_weird\n",
    "# =============================\n"
   ]
  },
  {
   "cell_type": "code",
   "execution_count": null,
   "metadata": {},
   "outputs": [],
   "source": [
    "# Test cases\n",
    "test_cases = [\"Hello, I'm Corey Schafer. Today I'll be teaching you Python.\", \"ihjgtm078PqZ1F0\", \"We HaPpIlY aNnOuNcE tO yOu ThE dRaW oF tHe EuRo - AfRo AsIaN sWeEpStAkE\"]\n",
    "for test_case in test_cases:\n",
    "    result = has_weird_case(test_case)\n",
    "    if result:\n",
    "        print('\"', test_case, \"\\\" - has weird casing\\n\")\n",
    "    else:\n",
    "        print('\"', test_case, \"\\\" - doesn't have weird casing\\n\")"
   ]
  },
  {
   "cell_type": "markdown",
   "metadata": {
    "colab_type": "text",
    "id": "ODDNjrZqzKud"
   },
   "source": [
    "<br>\n",
    "<br>\n",
    "<br>\n",
    "<br>\n",
    "\n",
    "## Step 4 : Using Spam Filters\n",
    "\n"
   ]
  },
  {
   "cell_type": "markdown",
   "metadata": {
    "colab_type": "text",
    "id": "G_A6X1A1zUhC"
   },
   "source": [
    "There are some common phrases that occur in many spam messages like 'Urgent!', 'Get For Free'!, 'we need your information'. By checking to see if these phrases are present in our spam messages, we can catch spam. \n",
    "\n",
    "We'll usually load datasets from external files for doing many things in python, unless we're testing a function in which case a sample data point can be copied and the function can be checked for errors. \n",
    "\n",
    "We have curated a large dataset of spam_filters and we will now show you how to load them from a file into a list.\n",
    "\n",
    "(i)  Download the file - `spam_filters.txt` from the our GitHub Repo [https://github.com/oss2019/PyDay]. \n",
    "<br>\n",
    "(ii) Run the cell below and click upload while it runs.\n",
    "<br>\n",
    "(iii)Upload `spam_filters.txt` that you just downloaded."
   ]
  },
  {
   "cell_type": "code",
   "execution_count": null,
   "metadata": {
    "colab": {},
    "colab_type": "code",
    "id": "PSuc-BBC5UbU"
   },
   "outputs": [],
   "source": [
    "from google.colab import files\n",
    "uploaded = files.upload()"
   ]
  },
  {
   "cell_type": "code",
   "execution_count": null,
   "metadata": {
    "colab": {},
    "colab_type": "code",
    "id": "zCkfVUr10jMJ"
   },
   "outputs": [],
   "source": [
    "# open(path, action) will open the file in the 'path' to perform 'action' on it.\n",
    "# 'r' is to read and 'w' is to write to the file. There are others which you can\n",
    "# lookup on Google.\n",
    "\n",
    "file = open('spam_filters.txt', 'r')\n",
    "\n",
    "# Now, let's iterate through the file line by line and\n",
    "# add each line to an array\n",
    "lines = []\n",
    "for line in file:\n",
    "    \n",
    "    lines.append(line.lower().strip())  # Strip removes the trailing '\\n' characters\n",
    "\n",
    "print(lines[0:5])\n",
    "# print(lines[0],'\\n',lines[1],'\\n')\n",
    "# print(*lines[0:5],sep='\\n')\n",
    "\n",
    "filters = lines\n",
    "\n",
    "# We shouldn't forget to close the file at the end, else other processes can't \n",
    "# open the file to read/write\n",
    "file.close()"
   ]
  },
  {
   "cell_type": "markdown",
   "metadata": {},
   "source": [
    "### Using Filter List to Check if filter in spam_message\n",
    "Now that we have list of filters, we iterate through our filters and check if any of them are present in our message. "
   ]
  },
  {
   "cell_type": "code",
   "execution_count": null,
   "metadata": {},
   "outputs": [],
   "source": [
    "#Challenge: i) Recollect using a for loop to iterate over `filters`\n",
    "# ii) If a `filter` in `filters` is present in `spam_message`:\n",
    "#           set is_spam to true\n",
    "#           break ( as doesn't matter if other filter is also present, message is still present )\n",
    "\n",
    "is_spam = False\n",
    "processed_msg = keep_only_letters(spam_message.lower())\n",
    "# Use processed_msg\n",
    "\n",
    "\n"
   ]
  },
  {
   "cell_type": "markdown",
   "metadata": {},
   "source": [
    "### Lets See How It Works !!\n",
    "\n",
    "Go to the top and change spam_message. \n",
    "Come back here and click Cell->Run all above\n",
    "See Output"
   ]
  },
  {
   "cell_type": "code",
   "execution_count": null,
   "metadata": {},
   "outputs": [],
   "source": [
    "print(spam_message)\n",
    "print(is_spam)"
   ]
  },
  {
   "cell_type": "code",
   "execution_count": null,
   "metadata": {},
   "outputs": [],
   "source": []
  }
 ],
 "metadata": {
  "colab": {
   "name": "lesson_1.ipynb",
   "provenance": [],
   "version": "0.3.2"
  },
  "kernelspec": {
   "display_name": "Python 3",
   "language": "python",
   "name": "python3"
  },
  "language_info": {
   "codemirror_mode": {
    "name": "ipython",
    "version": 3
   },
   "file_extension": ".py",
   "mimetype": "text/x-python",
   "name": "python",
   "nbconvert_exporter": "python",
   "pygments_lexer": "ipython3",
   "version": "3.6.7"
  }
 },
 "nbformat": 4,
 "nbformat_minor": 1
}
