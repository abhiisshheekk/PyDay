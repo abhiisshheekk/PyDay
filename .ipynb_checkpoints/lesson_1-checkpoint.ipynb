{
 "cells": [
  {
   "cell_type": "markdown",
   "metadata": {},
   "source": [
    "# Lesson 1 : Python Basics"
   ]
  },
  {
   "cell_type": "markdown",
   "metadata": {},
   "source": [
    "## Why Python ?"
   ]
  },
  {
   "cell_type": "markdown",
   "metadata": {},
   "source": [
    "#### Python is like the king of all languages - it's super easy, super fun and super friendly to learn and build amazing real-world projects.\n",
    "A few reasons why python is still a must know language for nearly every developer is because it -\n",
    "\n",
    "- is easy to learn\n",
    "- is reliable and efficient\n",
    "- is an indispensable tool\n",
    "- has amazing libraries and APIs\n",
    "- works well with Big Data\n",
    "- Sounds cool on a Resume xP\n"
   ]
  },
  {
   "cell_type": "markdown",
   "metadata": {},
   "source": [
    "# Goal : Build your Own Spam Classifier \n"
   ]
  },
  {
   "cell_type": "markdown",
   "metadata": {},
   "source": [
    "We won't be diving into Machine Learning for our very first python tutorial. However, we will still see how to build an inspiring spam classifier by compiling the basics of what we learn in this session\n",
    "\n",
    "## Step 1 : Generate Data\n",
    "\n",
    "### 1.1 Variables in Python\n",
    "\n",
    "#### Why we need variables? \n",
    "We need them to store values. For our spam_classifier, we need a boolean to store whether the message is a spam or not. We also need to store a string that contains our example test case[spam message].\n",
    "\n",
    "#### What are variables?\n",
    "A variable in python is used to store data .  \n",
    "Unlike C, we don't need to name the type of the variable. We simply give a name and assign it wherever we need it in the code. \n",
    " Let us create a variable called `x` to store value `1`"
   ]
  },
  {
   "cell_type": "code",
   "execution_count": 3,
   "metadata": {},
   "outputs": [],
   "source": [
    "# This is a comment in python. Variables are declared below\n",
    "x = 1 \n",
    "y = 0.99999"
   ]
  },
  {
   "cell_type": "code",
   "execution_count": 4,
   "metadata": {},
   "outputs": [
    {
     "name": "stdout",
     "output_type": "stream",
     "text": [
      "1.99999\n"
     ]
    }
   ],
   "source": [
    "print(x + y)"
   ]
  },
  {
   "cell_type": "markdown",
   "metadata": {},
   "source": [
    "In `y`  add an extra 9 and re-run the above code. What happened?\n",
    "\n",
    "###### At the end of the day, we need to tell if our message is Spam or Not Spam. \n",
    "Create a boolean variable`is_spam` to store the result.\n",
    "Let us begin with the assumption that the message is Not Spam\n",
    "\n",
    "Case Sensitive - Boolean Values = `True` or `False`"
   ]
  },
  {
   "cell_type": "code",
   "execution_count": 6,
   "metadata": {},
   "outputs": [],
   "source": [
    "#Challenge : Your code goes here\n",
    "\n"
   ]
  },
  {
   "cell_type": "markdown",
   "metadata": {},
   "source": [
    "\n",
    "\n",
    "\n",
    "### 1.2 Strings in Python\n",
    "\n",
    "A python string has text enclosed with '' or \" \" .   \n",
    "\n",
    "Now, for our spam classifier we need an example string that contains a spam message. An example for such a string is shown below. We then store the string in a variable called spam_message. Try running the code below to see how it works.  \n",
    "\n",
    "Replace the string below to contain a spam message."
   ]
  },
  {
   "cell_type": "code",
   "execution_count": 2,
   "metadata": {},
   "outputs": [],
   "source": [
    "spam_message = 'How you doing?'"
   ]
  },
  {
   "cell_type": "code",
   "execution_count": 3,
   "metadata": {},
   "outputs": [
    {
     "data": {
      "text/plain": [
       "'How you doing?'"
      ]
     },
     "execution_count": 3,
     "metadata": {},
     "output_type": "execute_result"
    }
   ],
   "source": [
    "# Print value stored\n",
    "spam_message"
   ]
  },
  {
   "cell_type": "markdown",
   "metadata": {},
   "source": [
    "What happens when you add two strings?"
   ]
  },
  {
   "cell_type": "code",
   "execution_count": 56,
   "metadata": {},
   "outputs": [
    {
     "data": {
      "text/plain": [
       "''"
      ]
     },
     "execution_count": 56,
     "metadata": {},
     "output_type": "execute_result"
    }
   ],
   "source": [
    "# Fill in str1 and str2. Run to see output.\n",
    "str1 = ''\n",
    "str2 = ''\n",
    "str1 + str2"
   ]
  },
  {
   "cell_type": "markdown",
   "metadata": {},
   "source": [
    "<br>\n",
    "<br>\n",
    "<br>\n",
    "<br>\n",
    "\n",
    "\n",
    "\n",
    "##  Step 2 : Analysis - Spell Checking"
   ]
  },
  {
   "cell_type": "markdown",
   "metadata": {},
   "source": [
    "### 2.1 Lists in Python \n",
    "\n",
    "##### Why we need Lists?\n",
    "A spam message can be viewed as an array of words. To perform a word-by-word analysis (like checking for spelling mistakes) we break a sentence and store it into a list of words.\n",
    "\n",
    "#### Usage\n",
    "Lists in pythons are equivalent to arrays in C.\n",
    "The below code shows how to declare a simple list in python"
   ]
  },
  {
   "cell_type": "code",
   "execution_count": 48,
   "metadata": {},
   "outputs": [
    {
     "data": {
      "text/plain": [
       "['first', 'second', 'third']"
      ]
     },
     "execution_count": 48,
     "metadata": {},
     "output_type": "execute_result"
    }
   ],
   "source": [
    "# Create a list\n",
    "my_list = ['first','second','third']\n",
    "my_list"
   ]
  },
  {
   "cell_type": "code",
   "execution_count": 76,
   "metadata": {},
   "outputs": [],
   "source": [
    "# Challenge : Try to print the second element in my_list\n",
    "# hint : use [ ] with my_list\n",
    "\n",
    "\n",
    "\n"
   ]
  },
  {
   "cell_type": "markdown",
   "metadata": {},
   "source": [
    "Let us try to break our spam message into words and store it in a list.<br>That way we can check each word for spelling mistakes. If it has a mistake, we shall classify the message as spam.<br>We shall make use of the split() function to make our lives easier.\n",
    "\n",
    "Note : split() returns a list but does not change the original string. "
   ]
  },
  {
   "cell_type": "code",
   "execution_count": 51,
   "metadata": {},
   "outputs": [
    {
     "data": {
      "text/plain": [
       "['This', 'is', 'a', 'sentence']"
      ]
     },
     "execution_count": 51,
     "metadata": {},
     "output_type": "execute_result"
    }
   ],
   "source": [
    "str = 'This is a sentence'\n",
    "str.split(' ')"
   ]
  },
  {
   "cell_type": "code",
   "execution_count": null,
   "metadata": {},
   "outputs": [],
   "source": [
    "# Now try using the above function to split 'spam_message' \n",
    "# and assign it to a variable called 'words'.\n",
    "words = \n",
    "words"
   ]
  },
  {
   "cell_type": "markdown",
   "metadata": {},
   "source": [
    "Noticed any problems. Let us use built-in string functions to help clean our message by removing punctuations - \n",
    "<br>str.replace(old string, new string)"
   ]
  },
  {
   "cell_type": "code",
   "execution_count": 61,
   "metadata": {},
   "outputs": [
    {
     "data": {
      "text/plain": [
       "'Hungry, who wants py :)'"
      ]
     },
     "execution_count": 61,
     "metadata": {},
     "output_type": "execute_result"
    }
   ],
   "source": [
    "spam_message.replace(\"?\",\"\")"
   ]
  },
  {
   "cell_type": "markdown",
   "metadata": {},
   "source": [
    "Try removing other punctutation marks like `.`,`,`,`!`"
   ]
  },
  {
   "cell_type": "code",
   "execution_count": 87,
   "metadata": {},
   "outputs": [],
   "source": [
    "# Based on what we did above, try removing the other punctuation marks below\n",
    "# Code begins here\n",
    "\n",
    "\n",
    "\n",
    "\n",
    "\n",
    "\n",
    "\n"
   ]
  },
  {
   "cell_type": "markdown",
   "metadata": {},
   "source": [
    "#### Too Many Punctuation marks to take care of??\n",
    "\n",
    "Never fear, for loop is here. See how python simplifies our life\n",
    "\n",
    "    (i)  Create a list of punctuation marks that needs to be removed\n",
    "    (ii) Iterate over each punctuation in the list and remove it from spam_message  "
   ]
  },
  {
   "cell_type": "code",
   "execution_count": null,
   "metadata": {},
   "outputs": [],
   "source": [
    "# Create a list to store punctuation marks to be removed. Call it 'punct_list'\n",
    "# Populate punc_list with some punctuation marks you know.\n",
    "\n",
    "#Complete this line below\n",
    "punct_list = \n",
    "\n",
    "# For loop written for you below\n",
    "for punct_mark in punct_list:\n",
    "    spam_message = spam_message.replace(punct_mark, \"\")\n",
    "\n",
    "#Print\n",
    "spam_message"
   ]
  },
  {
   "cell_type": "code",
   "execution_count": 74,
   "metadata": {},
   "outputs": [
    {
     "data": {
      "text/plain": [
       "['Hungry', 'who', 'wants', 'py']"
      ]
     },
     "execution_count": 74,
     "metadata": {},
     "output_type": "execute_result"
    }
   ],
   "source": [
    "#Now see if all words come properly\n",
    "words = spam_message.split(' ')\n",
    "words"
   ]
  },
  {
   "cell_type": "markdown",
   "metadata": {},
   "source": [
    "\n",
    "### 2.2 Spell Checking using Ready Made libraries\n",
    "\n",
    "Now that we have our list of words. Let us use a ready made library to check spellings for us.\n",
    "<br>Run the below code to see the magic happen!"
   ]
  },
  {
   "cell_type": "code",
   "execution_count": 78,
   "metadata": {},
   "outputs": [
    {
     "name": "stdout",
     "output_type": "stream",
     "text": [
      "['py']\n"
     ]
    }
   ],
   "source": [
    "# Check for spelling mistakes\n",
    "from spellchecker import SpellChecker\n",
    "\n",
    "spell_checker = SpellChecker()\n",
    "mispelled = list(spell_checker.unknown(words))\n",
    "print(mispelled)"
   ]
  },
  {
   "cell_type": "markdown",
   "metadata": {},
   "source": [
    "### 2.3 If Conditionals\n",
    "\n",
    "If a word is mispelled than the message is Spam !!!\n",
    "<br>Let us write the above sentence in code."
   ]
  },
  {
   "cell_type": "code",
   "execution_count": 85,
   "metadata": {},
   "outputs": [
    {
     "name": "stdout",
     "output_type": "stream",
     "text": [
      "Y is greater than x\n"
     ]
    }
   ],
   "source": [
    "# Example if statement\n",
    "x = 1\n",
    "y = 2\n",
    "if x > y:\n",
    "    print(\"X is greater than y\")\n",
    "else:\n",
    "    print(\"Y is greater than x\")\n"
   ]
  },
  {
   "cell_type": "code",
   "execution_count": 4,
   "metadata": {},
   "outputs": [],
   "source": [
    "#Challenge: Mark is_spam as True if there is atleast one mispelled word\n",
    "# Hint 1 : Remember to set the is_spam variable to True if mispelled, else False\n",
    "# Hint 2 : Recollect the len() function\n",
    "# Hint 3 : If len(mispelled) is greater than 0 it means that more than 0 words are mispelled.\n",
    "\n",
    "# Your code begins below here:\n",
    "\n",
    "\n"
   ]
  },
  {
   "cell_type": "markdown",
   "metadata": {},
   "source": [
    "<br>\n",
    "<br>\n",
    "<br>\n",
    "<br>\n",
    "\n",
    "## Step 3 : \n",
    "\n"
   ]
  },
  {
   "cell_type": "code",
   "execution_count": null,
   "metadata": {},
   "outputs": [],
   "source": []
  }
 ],
 "metadata": {
  "kernelspec": {
   "display_name": "Python 3",
   "language": "python",
   "name": "python3"
  },
  "language_info": {
   "codemirror_mode": {
    "name": "ipython",
    "version": 3
   },
   "file_extension": ".py",
   "mimetype": "text/x-python",
   "name": "python",
   "nbconvert_exporter": "python",
   "pygments_lexer": "ipython3",
   "version": "3.6.4"
  }
 },
 "nbformat": 4,
 "nbformat_minor": 2
}
