{
 "cells": [
  {
   "cell_type": "markdown",
   "metadata": {},
   "source": [
    "## Lesson 5 : Making your first Chat Bot !! \n",
    "\n",
    "We shall try to use what we have/will learn in the previous lessons to build a simple and exciting chatbot.\n",
    "<Br> There are probably better ways of developing this, using NLP and other libraries like NLTK, however, we shall leave that as a challenge for you. xP\n",
    "    \n",
    "\n",
    "###  GOALS : \n",
    "1. Make your chatbot reply with pre-determined responses.<br>\n",
    "2. Call your chatbot the coolest name ever.<br>\n",
    "3. Ask your chatbot to entertain you with jokes!<br>\n",
    "4. Ask your chatbot to motivate you, when you feel low.<br>\n",
    "5. Add more stuff and make the best personal assistant in the world !!!!!!!!! :)"
   ]
  },
  {
   "cell_type": "code",
   "execution_count": null,
   "metadata": {},
   "outputs": [],
   "source": [
    "!pip3 install pyjokes"
   ]
  },
  {
   "cell_type": "code",
   "execution_count": 2,
   "metadata": {},
   "outputs": [],
   "source": [
    "from pyjokes import get_joke\n",
    "import random\n",
    "import os"
   ]
  },
  {
   "cell_type": "code",
   "execution_count": 1,
   "metadata": {},
   "outputs": [],
   "source": [
    "class Chatbot:\n",
    "    \n",
    "    \n",
    "    def __init__(self, bot_name='Bot', user='user'):\n",
    "        self.name = bot_name\n",
    "        self.user = user\n",
    "        # Define a function in a function\n",
    "        def hello():\n",
    "            print('Hello, my name is {}'.format(self.name))\n",
    "        # Call the function we just defined\n",
    "        hello()\n",
    "\n",
    "    def decor_func(some_func):\n",
    "        '''\n",
    "            Decorator to print \n",
    "            'bot_name says:' and \n",
    "            'user says:' when executing a feature\n",
    "        '''\n",
    "        def wrapper_func(self):\n",
    "            print('{} says: '.format(self.name), end='')\n",
    "            some_func(self)\n",
    "            print('{} says: '.format(self.user), end='')\n",
    "        return wrapper_func\n",
    "\n",
    "    @decor_func\n",
    "    def greetings(self):\n",
    "        ''' Feature : bot says \"Hi\" '''\n",
    "        print('Hi {}!! How may I help you?'.format(self.user))\n",
    "\n",
    "    @decor_func\n",
    "    def motivate_me(self):\n",
    "        ''' Feature : bot tells you a motivational quote '''\n",
    "        try:\n",
    "            with open('quotes.txt', 'r') as file:\n",
    "                quotes = file.read()\n",
    "                quotes = quotes.split('\\n')\n",
    "                print(random.choice(quotes))\n",
    "        except:\n",
    "            print('Sorry, something went wrong.')\n",
    "\n",
    "    @decor_func\n",
    "    def jokes(self):\n",
    "        ''' Feature : bot tells you a joke '''\n",
    "        try:\n",
    "            print(get_joke())\n",
    "        except:\n",
    "            print('Sorry, something went wrong.')\n",
    "\n",
    "    @decor_func\n",
    "    def features(self):\n",
    "        ''' Feature: lists features of bot '''\n",
    "        print('Currently I can only tell you jokes, motivate you and tell you about my features.')\n",
    "    \n",
    "    # COMMAND DICTIONARY\n",
    "    ## map_words_to_command\n",
    "    my_dict = {\n",
    "        'greeting,hello,hey,hi': greetings,\n",
    "        'fun,bored,bore,joke': jokes,\n",
    "        'inspire,motivate,sad,feeling down': motivate_me,\n",
    "        'do, feature': features,\n",
    "        'bye, goodbye, night, sleep, get lost': 'lets exit!'\n",
    "    }\n",
    "        \n",
    "    def process(self, input):\n",
    "        '''\n",
    "            Takes input and uses my_dict to map it to feature(function) for output\n",
    "        '''\n",
    "        input_string = input.lower()\n",
    "\n",
    "        for key,value in Chatbot.my_dict.items():\n",
    "            words = key.split(',')            \n",
    "            for word in words:\n",
    "                if word in input_string:\n",
    "                    return value     \n",
    "        return Chatbot.features\n",
    "\n",
    "    def deploy(self, run=True):\n",
    "        '''\n",
    "            Input => Process => Output => Repeat\n",
    "        '''\n",
    "        while(run):\n",
    "            print('{} says: '.format(self.user), end='')\n",
    "            cmd = input()\n",
    "            exec = self.process(cmd)\n",
    "            if isinstance(exec, str):\n",
    "                print('Good Bye!')\n",
    "                os._exit(1)\n",
    "            else:\n",
    "                exec(self)"
   ]
  },
  {
   "cell_type": "code",
   "execution_count": 2,
   "metadata": {
    "scrolled": true
   },
   "outputs": [
    {
     "name": "stdout",
     "output_type": "stream",
     "text": [
      "Hello, my name is Jarvis\n",
      "Akshat says: hi\n",
      "Jarvis says: Hi Akshat!! How may I help you?\n",
      "Akshat says: Akshat says: hello\n",
      "Jarvis says: Hi Akshat!! How may I help you?\n",
      "Akshat says: Akshat says: good\n",
      "Jarvis says: Currently I can only tell you jokes, motivate you and tell you about my features.\n",
      "Akshat says: Akshat says: bye\n",
      "Good Bye!\n"
     ]
    },
    {
     "ename": "NameError",
     "evalue": "name 'os' is not defined",
     "output_type": "error",
     "traceback": [
      "\u001b[0;31m---------------------------------------------------------------------------\u001b[0m",
      "\u001b[0;31mNameError\u001b[0m                                 Traceback (most recent call last)",
      "\u001b[0;32m<ipython-input-2-79aca535430e>\u001b[0m in \u001b[0;36m<module>\u001b[0;34m\u001b[0m\n\u001b[1;32m      1\u001b[0m \u001b[0mmy_bot\u001b[0m \u001b[0;34m=\u001b[0m \u001b[0mChatbot\u001b[0m\u001b[0;34m(\u001b[0m\u001b[0;34m'Jarvis'\u001b[0m\u001b[0;34m,\u001b[0m \u001b[0;34m'Akshat'\u001b[0m\u001b[0;34m)\u001b[0m\u001b[0;34m\u001b[0m\u001b[0;34m\u001b[0m\u001b[0m\n\u001b[0;32m----> 2\u001b[0;31m \u001b[0mmy_bot\u001b[0m\u001b[0;34m.\u001b[0m\u001b[0mdeploy\u001b[0m\u001b[0;34m(\u001b[0m\u001b[0;34m)\u001b[0m\u001b[0;34m\u001b[0m\u001b[0;34m\u001b[0m\u001b[0m\n\u001b[0m",
      "\u001b[0;32m<ipython-input-1-616481fda7e4>\u001b[0m in \u001b[0;36mdeploy\u001b[0;34m(self, run)\u001b[0m\n\u001b[1;32m     85\u001b[0m             \u001b[0;32mif\u001b[0m \u001b[0misinstance\u001b[0m\u001b[0;34m(\u001b[0m\u001b[0mexec\u001b[0m\u001b[0;34m,\u001b[0m \u001b[0mstr\u001b[0m\u001b[0;34m)\u001b[0m\u001b[0;34m:\u001b[0m\u001b[0;34m\u001b[0m\u001b[0;34m\u001b[0m\u001b[0m\n\u001b[1;32m     86\u001b[0m                 \u001b[0mprint\u001b[0m\u001b[0;34m(\u001b[0m\u001b[0;34m'Good Bye!'\u001b[0m\u001b[0;34m)\u001b[0m\u001b[0;34m\u001b[0m\u001b[0;34m\u001b[0m\u001b[0m\n\u001b[0;32m---> 87\u001b[0;31m                 \u001b[0mos\u001b[0m\u001b[0;34m.\u001b[0m\u001b[0m_exit\u001b[0m\u001b[0;34m(\u001b[0m\u001b[0;36m1\u001b[0m\u001b[0;34m)\u001b[0m\u001b[0;34m\u001b[0m\u001b[0;34m\u001b[0m\u001b[0m\n\u001b[0m\u001b[1;32m     88\u001b[0m             \u001b[0;32melse\u001b[0m\u001b[0;34m:\u001b[0m\u001b[0;34m\u001b[0m\u001b[0;34m\u001b[0m\u001b[0m\n\u001b[1;32m     89\u001b[0m                 \u001b[0mexec\u001b[0m\u001b[0;34m(\u001b[0m\u001b[0mself\u001b[0m\u001b[0;34m)\u001b[0m\u001b[0;34m\u001b[0m\u001b[0;34m\u001b[0m\u001b[0m\n",
      "\u001b[0;31mNameError\u001b[0m: name 'os' is not defined"
     ]
    }
   ],
   "source": [
    "my_bot = Chatbot('Jarvis', 'Akshat')\n",
    "my_bot.deploy()"
   ]
  },
  {
   "cell_type": "code",
   "execution_count": null,
   "metadata": {},
   "outputs": [],
   "source": []
  }
 ],
 "metadata": {
  "kernelspec": {
   "display_name": "Python 3",
   "language": "python",
   "name": "python3"
  },
  "language_info": {
   "codemirror_mode": {
    "name": "ipython",
    "version": 3
   },
   "file_extension": ".py",
   "mimetype": "text/x-python",
   "name": "python",
   "nbconvert_exporter": "python",
   "pygments_lexer": "ipython3",
   "version": "3.6.7"
  }
 },
 "nbformat": 4,
 "nbformat_minor": 2
}
