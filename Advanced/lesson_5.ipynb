{
 "cells": [
  {
   "cell_type": "markdown",
   "metadata": {},
   "source": [
    "## Lesson 5 : Making your first Chat Bot !! \n",
    "\n",
    "We shall try to use what we have/will learn in the previous lessons to build a simple and exciting chatbot.\n",
    "<Br> There are probably better ways of developing this, using NLP and other libraries like NLTK, however, we shall leave that as a challenge for you. xP\n",
    "    \n",
    "\n",
    "###  GOALS : \n",
    "1. Make your chatbot reply with pre-determined responses.<br>\n",
    "2. Call your chatbot the coolest name ever.<br>\n",
    "3. Ask your chatbot to entertain you with jokes!<br>\n",
    "4. Ask your chatbot to motivate you, when you feel low.<br>\n",
    "5. Add more stuff and make the best personal assistant in the world !!!!!!!!! :)"
   ]
  },
  {
   "cell_type": "code",
   "execution_count": 33,
   "metadata": {},
   "outputs": [
    {
     "name": "stdout",
     "output_type": "stream",
     "text": [
      "Requirement already satisfied: pyjokes in /home/akshat/.local/lib/python3.6/site-packages\n",
      "\u001b[33mYou are using pip version 9.0.3, however version 19.0.2 is available.\n",
      "You should consider upgrading via the 'pip install --upgrade pip' command.\u001b[0m\n"
     ]
    }
   ],
   "source": [
    "!pip3 install pyjokes"
   ]
  },
  {
   "cell_type": "code",
   "execution_count": 10,
   "metadata": {},
   "outputs": [],
   "source": [
    "import pyjokes\n",
    "import random"
   ]
  },
  {
   "cell_type": "code",
   "execution_count": null,
   "metadata": {},
   "outputs": [],
   "source": [
    "class chatbot:\n",
    "    def __init__(self, bot_name, user):\n",
    "        self.name = bot_name\n",
    "        self.user = user\n",
    "        # Define a function in a function\n",
    "        def hello():\n",
    "            print('Hello, my name is ' + self.name)\n",
    "        # Call the function we just defined\n",
    "        hello()\n",
    "    \n",
    "    def greetings(self):\n",
    "        return 'Hi {}!!'.format(self.user)\n",
    "    \n",
    "    def motivate_me(self):\n",
    "        with open('quotes.txt', 'r') as file:\n",
    "            quotes = file.read()\n",
    "            quotes = quotes.split('\\n')\n",
    "            return random.choice(quotes)            \n",
    "            \n",
    "    def jokes(self):\n",
    "        return pyjokes.get_joke()\n",
    "    \n",
    "    def process(self, input):\n",
    "        \n",
    "        input_words = input.split()\n",
    "        \n",
    "        # map_words_to_command\n",
    "        my_dict = {\n",
    "            'greetings,hello,hey': self.greetings,\n",
    "            'joke,funny,bored,bore': self.jokes,\n",
    "            'inspire,motivate,sad,feeling down': self.motivate_me,\n",
    "            'bye': exit()\n",
    "        }\n",
    "        \n",
    "        for kw in input_words:\n",
    "            for key, value in my_dict.items():\n",
    "                if kw in key:\n",
    "                    return value\n",
    "    \n",
    "    def deploy(person, run=True):\n",
    "        while(run):\n",
    "            cmd = input()\n",
    "            exec = person.process(cmd)\n",
    "            print(exec())\n",
    "            \n"
   ]
  },
  {
   "cell_type": "code",
   "execution_count": null,
   "metadata": {},
   "outputs": [],
   "source": [
    "my_bot = chatbot('Jarvis', 'Praveen')"
   ]
  },
  {
   "cell_type": "code",
   "execution_count": null,
   "metadata": {},
   "outputs": [],
   "source": [
    "my_bot.deploy()"
   ]
  },
  {
   "cell_type": "code",
   "execution_count": null,
   "metadata": {},
   "outputs": [],
   "source": []
  },
  {
   "cell_type": "code",
   "execution_count": null,
   "metadata": {},
   "outputs": [],
   "source": [
    "print('hi')"
   ]
  },
  {
   "cell_type": "code",
   "execution_count": null,
   "metadata": {},
   "outputs": [],
   "source": []
  }
 ],
 "metadata": {
  "kernelspec": {
   "display_name": "Python 3",
   "language": "python",
   "name": "python3"
  },
  "language_info": {
   "codemirror_mode": {
    "name": "ipython",
    "version": 3
   },
   "file_extension": ".py",
   "mimetype": "text/x-python",
   "name": "python",
   "nbconvert_exporter": "python",
   "pygments_lexer": "ipython3",
   "version": "3.6.7"
  }
 },
 "nbformat": 4,
 "nbformat_minor": 2
}
