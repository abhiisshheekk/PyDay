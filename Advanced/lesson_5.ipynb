{
 "cells": [
  {
   "cell_type": "markdown",
   "metadata": {},
   "source": [
    "## Lesson 5 : Making your first Chat Bot !! \n",
    "\n",
    "We shall try to use what we have/will learn in the previous lessons to build a simple and exciting chatbot.\n",
    "<Br> There are probably better ways of developing this, using NLP and other libraries like NLTK, however, we shall leave that as a challenge for you. xP\n",
    "    \n",
    "\n",
    "###  GOALS : \n",
    "1. Make your chatbot reply with pre-determined responses.<br>\n",
    "2. Call your chatbot the coolest name ever.<br>\n",
    "3. Ask your chatbot to entertain you with jokes!<br>\n",
    "4. Ask your chatbot to motivate you, when you feel low.<br>\n",
    "5. Add more stuff and make the best personal assistant in the world !!!!!!!!! :)"
   ]
  },
  {
   "cell_type": "code",
   "execution_count": null,
   "metadata": {},
   "outputs": [],
   "source": [
    "!pip3 install pyjokes"
   ]
  },
  {
   "cell_type": "code",
   "execution_count": 3,
   "metadata": {},
   "outputs": [],
   "source": [
    "from pyjokes import get_joke\n",
    "import random\n",
    "import os"
   ]
  },
  {
   "cell_type": "code",
   "execution_count": 4,
   "metadata": {},
   "outputs": [],
   "source": [
    "class Chatbot:\n",
    "    \n",
    "    \n",
    "    def __init__(self, bot_name='Bot', user='user'):\n",
    "        self.name = \n",
    "        self.user = \n",
    "        # Define a function in a function\n",
    "        def hello():\n",
    "            pass\n",
    "        \n",
    "        # Call the function we just defined\n",
    "    \n",
    "       "
   ]
  },
  {
   "cell_type": "code",
   "execution_count": 1,
   "metadata": {
    "scrolled": true
   },
   "outputs": [
    {
     "ename": "NameError",
     "evalue": "name 'Chatbot' is not defined",
     "output_type": "error",
     "traceback": [
      "\u001b[0;31m---------------------------------------------------------------------------\u001b[0m",
      "\u001b[0;31mNameError\u001b[0m                                 Traceback (most recent call last)",
      "\u001b[0;32m<ipython-input-1-07434b8fcf88>\u001b[0m in \u001b[0;36m<module>\u001b[0;34m\u001b[0m\n\u001b[0;32m----> 1\u001b[0;31m \u001b[0mmy_bot\u001b[0m \u001b[0;34m=\u001b[0m \u001b[0mChatbot\u001b[0m\u001b[0;34m(\u001b[0m\u001b[0;34m'Jarvis'\u001b[0m\u001b[0;34m,\u001b[0m \u001b[0;34m'Tony Stark'\u001b[0m\u001b[0;34m)\u001b[0m\u001b[0;34m\u001b[0m\u001b[0;34m\u001b[0m\u001b[0m\n\u001b[0m\u001b[1;32m      2\u001b[0m \u001b[0mmy_bot\u001b[0m\u001b[0;34m.\u001b[0m\u001b[0mdeploy\u001b[0m\u001b[0;34m(\u001b[0m\u001b[0;34m)\u001b[0m\u001b[0;34m\u001b[0m\u001b[0;34m\u001b[0m\u001b[0m\n",
      "\u001b[0;31mNameError\u001b[0m: name 'Chatbot' is not defined"
     ]
    }
   ],
   "source": [
    "my_bot = Chatbot('Jarvis', 'Tony Stark')\n",
    "my_bot.deploy()"
   ]
  },
  {
   "cell_type": "code",
   "execution_count": null,
   "metadata": {},
   "outputs": [],
   "source": []
  }
 ],
 "metadata": {
  "kernelspec": {
   "display_name": "Python 3",
   "language": "python",
   "name": "python3"
  },
  "language_info": {
   "codemirror_mode": {
    "name": "ipython",
    "version": 3
   },
   "file_extension": ".py",
   "mimetype": "text/x-python",
   "name": "python",
   "nbconvert_exporter": "python",
   "pygments_lexer": "ipython3",
   "version": "3.6.7"
  }
 },
 "nbformat": 4,
 "nbformat_minor": 2
}
