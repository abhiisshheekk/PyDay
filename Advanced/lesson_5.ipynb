{
 "cells": [
  {
   "cell_type": "markdown",
   "metadata": {},
   "source": [
    "## Lesson 5 : Making your first Chat Bot !! \n",
    "\n",
    "We shall try to use what we have/will learn in the previous lessons to build a simple and exciting chatbot.\n",
    "<Br> There are probably better ways of developing this, using NLP and other libraries like NLTK, however, we shall leave that as a challenge for you. xP\n",
    "    \n",
    "\n",
    "###  GOALS : \n",
    "1. Make your chatbot reply with pre-determined responses.<br>\n",
    "2. Call your chatbot the coolest name ever.<br>\n",
    "3. Ask your chatbot to entertain you with jokes!<br>\n",
    "4. Ask your chatbot to motivate you, when you feel low.<br>\n",
    "5. Add more stuff and make the best personal assistant in the world !!!!!!!!! :)"
   ]
  },
  {
   "cell_type": "code",
   "execution_count": null,
   "metadata": {},
   "outputs": [],
   "source": [
    "!pip3 install pyjokes"
   ]
  },
  {
   "cell_type": "code",
   "execution_count": null,
   "metadata": {},
   "outputs": [],
   "source": [
    "from pyjokes import get_joke\n",
    "import random\n",
    "import os"
   ]
  },
  {
   "cell_type": "code",
   "execution_count": null,
   "metadata": {},
   "outputs": [],
   "source": [
    "class Chatbot:    \n",
    "    def __init__(self, bot_name='Bot', user='user'):\n",
    "        \n",
    "        \n",
    "        \n",
    "        \n",
    "        \n",
    "        \n",
    "        \n",
    "    def motivate_me(self):\n",
    "        # Prints a quotes from quotes.txt file when called\n",
    "        \n",
    "        \n",
    "        \n",
    "        \n",
    "    \n",
    "    \n",
    "    def jokes(self):\n",
    "        # Prints a joke when called\n",
    "        \n",
    "    \n",
    "    \n",
    "    \n",
    "    \n",
    "    \n",
    "    def features(self):\n",
    "        # Prints the features that it can perform\n",
    "        \n",
    "        \n",
    "        \n",
    "        \n",
    "        \n",
    "    def process(self, input):\n",
    "     # Determines which of the above function needs to be called.\n",
    "    \n",
    "    \n",
    "    \n",
    "    \n",
    "    def deploy(self):\n",
    "        # Function used to deploy the chatbot\n",
    "        # Take the input -> Determine Process -> Output -> Repeat\n",
    "        # Use os._exit(1)\n",
    "       "
   ]
  },
  {
   "cell_type": "code",
   "execution_count": null,
   "metadata": {
    "scrolled": true
   },
   "outputs": [],
   "source": [
    "my_bot = Chatbot('Jarvis', 'Tony Stark')\n",
    "my_bot.deploy()"
   ]
  }
 ],
 "metadata": {
  "kernelspec": {
   "display_name": "Python 3",
   "language": "python",
   "name": "python3"
  },
  "language_info": {
   "codemirror_mode": {
    "name": "ipython",
    "version": 3
   },
   "file_extension": ".py",
   "mimetype": "text/x-python",
   "name": "python",
   "nbconvert_exporter": "python",
   "pygments_lexer": "ipython3",
   "version": "3.6.7"
  }
 },
 "nbformat": 4,
 "nbformat_minor": 2
}
