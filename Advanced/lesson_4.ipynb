{
 "cells": [
  {
   "cell_type": "markdown",
   "metadata": {},
   "source": [
    "# Lesson 4 : Object Oriented Programming\n",
    "\n",
    "Imagine a situation where we have two people. Using what we have learnt till now in python, we would do something like this."
   ]
  },
  {
   "cell_type": "code",
   "execution_count": null,
   "metadata": {},
   "outputs": [],
   "source": [
    "firstname_1 = 'Jon'\n",
    "lastname_1 = 'Snow'\n",
    "age_1 = 23\n",
    "\n",
    "firstname_2 = 'Elon'\n",
    "lastname_2 = 'musk'\n",
    "age_2 = 47"
   ]
  },
  {
   "cell_type": "markdown",
   "metadata": {},
   "source": [
    "Now suppose you had to change a person's name,say 'John' you would have to remember that his first name was stored in `firstname_1` and code :"
   ]
  },
  {
   "cell_type": "code",
   "execution_count": null,
   "metadata": {},
   "outputs": [],
   "source": [
    "firstname_1 = 'Cool'"
   ]
  },
  {
   "cell_type": "markdown",
   "metadata": {},
   "source": [
    "Now what if you had to change the Elon's age as well, you would have to remember that he was the second person we defined and we would write <br>`age_2 = 48`\n",
    "Luckily, Python has a better and more systematic way of doing things. The answer to this is 'Class'."
   ]
  },
  {
   "cell_type": "markdown",
   "metadata": {},
   "source": [
    "\n",
    "#### What is a class?\n",
    "We have seen many built-in data types where we can store numbers, strings etc. But sometimes we need to store data that cannot be stored in built-in data types. Enter class, classes are nothing but user defined data types.<br>\n",
    "Why class?\n",
    "Classes allow us to logically group our data and functions in a way that is easy to reuse.\n",
    "Attributes: Data associated with a class\n",
    "Method: Function associated with a class"
   ]
  },
  {
   "cell_type": "code",
   "execution_count": null,
   "metadata": {},
   "outputs": [],
   "source": [
    "# Let us Define class Person\n",
    "class Person:    \n",
    "    pass  "
   ]
  },
  {
   "cell_type": "code",
   "execution_count": null,
   "metadata": {},
   "outputs": [],
   "source": [
    "person1 = Person()\n",
    "person1.firstname = 'Jon'\n",
    "person1.lastname = 'Snow'\n",
    "person1.age = 18\n",
    "\n",
    "person2 = Person()\n",
    "person2.firstname = 'Elon'\n",
    "person2.lastname = 'Musk'\n",
    "person2.age = 41"
   ]
  },
  {
   "cell_type": "code",
   "execution_count": null,
   "metadata": {},
   "outputs": [],
   "source": [
    "print(person1.firstname)\n",
    "print(person2.age)"
   ]
  },
  {
   "cell_type": "markdown",
   "metadata": {},
   "source": [
    "### Making class re-usable for different people."
   ]
  },
  {
   "cell_type": "code",
   "execution_count": 1,
   "metadata": {},
   "outputs": [],
   "source": [
    "class Person:\n",
    "    def __init__(self, first, last, age):\n",
    "        self.firstname = first\n",
    "        self.lastname = last\n",
    "        self.age = age"
   ]
  },
  {
   "cell_type": "code",
   "execution_count": null,
   "metadata": {},
   "outputs": [],
   "source": [
    "person1 = Person('Jon', 'Snow', 19)\n",
    "person2 = Person('Elon', 'Musk', 41)"
   ]
  },
  {
   "cell_type": "code",
   "execution_count": null,
   "metadata": {},
   "outputs": [],
   "source": []
  },
  {
   "cell_type": "markdown",
   "metadata": {},
   "source": [
    "### Using functions in Classes"
   ]
  },
  {
   "cell_type": "code",
   "execution_count": null,
   "metadata": {},
   "outputs": [],
   "source": [
    "class Person:\n",
    "    \n",
    "    def __init__(self, x, y, age=18):\n",
    "        self.firstname = x\n",
    "        self.lastname = y\n",
    "        self.age = age\n",
    "    \n",
    "    def get_email(self):\n",
    "        return self.firstname + '_' + self.lastname + '@email.com'"
   ]
  },
  {
   "cell_type": "code",
   "execution_count": null,
   "metadata": {},
   "outputs": [],
   "source": [
    "flash = Person('Barry', 'Allen', 21)\n",
    "print(flash.get_email())"
   ]
  },
  {
   "cell_type": "code",
   "execution_count": null,
   "metadata": {},
   "outputs": [],
   "source": [
    "# Alternative usage\n",
    "# But generally first one is used as it is easy.\n",
    "print(Person.get_email(flash))"
   ]
  }
 ],
 "metadata": {
  "kernelspec": {
   "display_name": "Python 3",
   "language": "python",
   "name": "python3"
  },
  "language_info": {
   "codemirror_mode": {
    "name": "ipython",
    "version": 3
   },
   "file_extension": ".py",
   "mimetype": "text/x-python",
   "name": "python",
   "nbconvert_exporter": "python",
   "pygments_lexer": "ipython3",
   "version": "3.6.7"
  }
 },
 "nbformat": 4,
 "nbformat_minor": 2
}
