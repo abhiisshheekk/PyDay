{
 "cells": [
  {
   "cell_type": "markdown",
   "metadata": {},
   "source": [
    "# Lesson 4 : Object Oriented Programming\n",
    "What is a class?\n",
    "We have seen many built-in data types where we can store numbers, strings etc. But sometimes we need to store data that cannot be stored in built-in data types. Enter class, classes are nothing but user defined data types.<br>\n",
    "Why class?\n",
    "Classes allow us to logically group our data and functions in a way that is easy to reuse.\n",
    "Attributes: Data associated with a class\n",
    "Method: Function associated with a class"
   ]
  },
  {
   "cell_type": "code",
   "execution_count": 1,
   "metadata": {},
   "outputs": [],
   "source": [
    "class chatbot:\n",
    "    def __init__(self, bot_name):\n",
    "        self.name = bot_name\n",
    "        \n",
    "    def motivate_me(self):\n",
    "        with open('quotes.txt', 'r') as file:\n",
    "            quotes = file.read()\n",
    "            qutoes = quotes.split('\\n')"
   ]
  }
 ],
 "metadata": {
  "kernelspec": {
   "display_name": "Python 3",
   "language": "python",
   "name": "python3"
  },
  "language_info": {
   "codemirror_mode": {
    "name": "ipython",
    "version": 3
   },
   "file_extension": ".py",
   "mimetype": "text/x-python",
   "name": "python",
   "nbconvert_exporter": "python",
   "pygments_lexer": "ipython3",
   "version": "3.6.7"
  }
 },
 "nbformat": 4,
 "nbformat_minor": 2
}
