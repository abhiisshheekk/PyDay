{
 "cells": [
  {
   "cell_type": "markdown",
   "metadata": {},
   "source": [
    "# Lesson 6 : Inheritance\n",
    "Inheritance in programming means exactly how you would imagine, it allows children classes to inherit properties from their parent classes.\n",
    "Suppose a Company, let's call it Amazon decides to make it's own Chatbot someday and I don't know name it Alexa.\n",
    "It's possible for Amazon to use our some of the features of the `Chatbot` that we made."
   ]
  },
  {
   "cell_type": "code",
   "execution_count": 4,
   "metadata": {},
   "outputs": [],
   "source": [
    "from lesson5 import Chatbot\n",
    "\n",
    "class Amazon(Chatbot):\n",
    "    def __init__(self, bot_name, user, secondary_user):\n",
    "        self.secondary_user = secondary_user\n",
    "        Chatbot.__init__(self, bot_name, user)"
   ]
  },
  {
   "cell_type": "code",
   "execution_count": 6,
   "metadata": {},
   "outputs": [
    {
     "name": "stdout",
     "output_type": "stream",
     "text": [
      "Hello, my name is Alexa\n"
     ]
    }
   ],
   "source": [
    "my_assistant = Amazon('Alexa', 'Akshat', 'Praveen')"
   ]
  },
  {
   "cell_type": "code",
   "execution_count": 7,
   "metadata": {},
   "outputs": [
    {
     "name": "stdout",
     "output_type": "stream",
     "text": [
      "Alexa says: An SQL query goes into a bar, walks up to two tables and asks, 'Can I join you?'\n"
     ]
    }
   ],
   "source": [
    "my_assistant.jokes()"
   ]
  }
 ],
 "metadata": {
  "kernelspec": {
   "display_name": "Python 3",
   "language": "python",
   "name": "python3"
  },
  "language_info": {
   "codemirror_mode": {
    "name": "ipython",
    "version": 3
   },
   "file_extension": ".py",
   "mimetype": "text/x-python",
   "name": "python",
   "nbconvert_exporter": "python",
   "pygments_lexer": "ipython3",
   "version": "3.6.7"
  }
 },
 "nbformat": 4,
 "nbformat_minor": 2
}
